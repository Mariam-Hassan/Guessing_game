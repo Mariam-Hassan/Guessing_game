{
  "nbformat": 4,
  "nbformat_minor": 0,
  "metadata": {
    "kernelspec": {
      "display_name": "Python 3",
      "language": "python",
      "name": "python3"
    },
    "language_info": {
      "codemirror_mode": {
        "name": "ipython",
        "version": 3
      },
      "file_extension": ".py",
      "mimetype": "text/x-python",
      "name": "python",
      "nbconvert_exporter": "python",
      "pygments_lexer": "ipython3",
      "version": "3.6.2"
    },
    "colab": {
      "name": "Python Challenge Guessing Game.ipynb",
      "provenance": []
    }
  },
  "cells": [
    {
      "cell_type": "markdown",
      "metadata": {
        "id": "NQuOyznPahpH",
        "colab_type": "text"
      },
      "source": [
        "# Guessing Game Challenge\n",
        "\n",
        "Let's use `while` loops to create a guessing game.\n",
        "\n",
        "The Challenge:\n",
        "\n",
        "Write a program that picks a random integer from 1 to 100, and has players guess the number. The rules are:\n",
        "\n",
        "1. If a player's guess is less than 1 or greater than 100, say \"OUT OF BOUNDS\"\n",
        "\n",
        "2. On all turns, if a guess is \n",
        " * closer to the number than the previous guess return \"Closer!\"\n",
        " * farther from the number than the previous guess, return \"Farther!\"\n",
        "3. When the player's guess equals the number, tell them they've guessed correctly *and* how many guesses it took!\n",
        "\n",
        "Now Lets o fro the Steps!"
      ]
    },
    {
      "cell_type": "markdown",
      "metadata": {
        "id": "6K7SSiaEahpK",
        "colab_type": "text"
      },
      "source": [
        "#### First, Build a Line of Code that can Return arandom integer from 1 to 100 and store this number in object called Actual"
      ]
    },
    {
      "cell_type": "code",
      "metadata": {
        "id": "8R7ayXGwahpL",
        "colab_type": "code",
        "colab": {}
      },
      "source": [
        "#Type Your Code Here  - Replace None with Correct  Function  \n",
        "Actual = None "
      ],
      "execution_count": null,
      "outputs": []
    },
    {
      "cell_type": "markdown",
      "metadata": {
        "id": "la65uFUjahpO",
        "colab_type": "text"
      },
      "source": [
        "#### Next, build a Code to display an introduction to the Game to tell the user the Boundaries from 1 to 100 and what is his target."
      ]
    },
    {
      "cell_type": "code",
      "metadata": {
        "id": "cpMGPRNT7F-J",
        "colab_type": "code",
        "colab": {}
      },
      "source": [
        "#Type Your Code here "
      ],
      "execution_count": null,
      "outputs": []
    },
    {
      "cell_type": "markdown",
      "metadata": {
        "id": "GyW_z6Sf74yG",
        "colab_type": "text"
      },
      "source": [
        "### Next, Build a Code that takes an integer input from the user "
      ]
    },
    {
      "cell_type": "code",
      "metadata": {
        "id": "UZCNvK4o82k-",
        "colab_type": "code",
        "colab": {}
      },
      "source": [
        "#Type Your Code Here - Replace None With Correct Function \n",
        "Guess= None "
      ],
      "execution_count": null,
      "outputs": []
    },
    {
      "cell_type": "markdown",
      "metadata": {
        "id": "BHsh0slo834l",
        "colab_type": "text"
      },
      "source": [
        "### Next, Put the Upper Cell in A Loop that keeps checking if the Number is Out of Bounds or Not  "
      ]
    },
    {
      "cell_type": "code",
      "metadata": {
        "id": "Xx00D-J89xsk",
        "colab_type": "code",
        "colab": {}
      },
      "source": [
        "#Replace None Values with correct conditions or Booleans\n",
        "while(None):\n",
        "  # Take input from user \n",
        "  if  None :\n",
        "   # if right then print something\n",
        "\n",
        "  #and if not print another thing \n"
      ],
      "execution_count": null,
      "outputs": []
    },
    {
      "cell_type": "markdown",
      "metadata": {
        "id": "d-USlvx8dNak",
        "colab_type": "text"
      },
      "source": [
        "### Next, Build a Code that Check if the Guess is equal to the Actual Random Number"
      ]
    },
    {
      "cell_type": "code",
      "metadata": {
        "id": "E95mJnFNdfiW",
        "colab_type": "code",
        "colab": {}
      },
      "source": [
        "guesses= None #Make it an Empty List \n",
        "#Change None to Correct Boolean between\n",
        "if  None :\n",
        "  print ('Wow, you've guessed Correctly this time') #Fix \n",
        "  'You have guessed it in {} times'.format(None) # Put function that calculate the Real Number of Guesses "
      ],
      "execution_count": null,
      "outputs": []
    },
    {
      "cell_type": "markdown",
      "metadata": {
        "id": "VWNf49z6WVek",
        "colab_type": "text"
      },
      "source": [
        "### Next, Build a Code that Check on Each Guess whether its closer than the Previous Guess or not."
      ]
    },
    {
      "cell_type": "code",
      "metadata": {
        "id": "O7McDw6pbVfX",
        "colab_type": "code",
        "colab": {}
      },
      "source": [
        "\n",
        "while(None):\n",
        "  if  None :\n",
        "    print(' you are closer to target ')\n",
        "  print(' you are far from the target ')\n",
        "\n"
      ],
      "execution_count": null,
      "outputs": []
    },
    {
      "cell_type": "markdown",
      "metadata": {
        "id": "v-wMuTZLahpY",
        "colab_type": "text"
      },
      "source": [
        "#### Write a `while` loop that compares the player's guess to our number. If the player guesses correctly, break from the loop. Otherwise, tell the player if they're Closer or Farer , and continue asking for guesses.\n",
        "\n",
        "**Try to Collect All the cells you 've made above and use it here**\n",
        "\n",
        "Hint:\n",
        "\n",
        "\n",
        "* you can use the `abs()` function to find the positive difference between two numbers\n",
        "\n",
        "\n",
        "# Decomposition \n",
        "\n",
        "*   Choosing Random Number\n",
        "*   Game Intro for the User\n",
        "*   Checking on the Inserted Guess if its in boundary or not\n",
        "*   Checking on the Inserted Guess if its equal to the Random Number or Not\n",
        "*   Checking on the Inserted Guess if its Far or Close from the Previous Guess.\n",
        "\n",
        "\n",
        "\n"
      ]
    },
    {
      "cell_type": "code",
      "metadata": {
        "id": "FaifUKKUahpZ",
        "colab_type": "code",
        "colab": {}
      },
      "source": [
        "# Type your Final Code here\n"
      ],
      "execution_count": null,
      "outputs": []
    },
    {
      "cell_type": "code",
      "metadata": {
        "id": "3WmFudWAl7gi",
        "colab_type": "code",
        "colab": {}
      },
      "source": [
        "# Type here the Big Loop\n",
        "while None :\n",
        "  continue "
      ],
      "execution_count": null,
      "outputs": []
    },
    {
      "cell_type": "markdown",
      "metadata": {
        "id": "5UZ7l5wEahpb",
        "colab_type": "text"
      },
      "source": [
        "That's it! You've just programmed your first game!\n",
        "\n",
        "In the next section we'll learn how to turn some of these repetitive actions into *functions* that can be called whenever we need them."
      ]
    },
    {
      "cell_type": "markdown",
      "metadata": {
        "id": "HlHfgyZ9ahpc",
        "colab_type": "text"
      },
      "source": [
        "### Good Job!"
      ]
    }
  ]
}